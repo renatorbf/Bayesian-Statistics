{
  "nbformat": 4,
  "nbformat_minor": 0,
  "metadata": {
    "kernelspec": {
      "display_name": "Python 3",
      "language": "python",
      "name": "python3"
    },
    "language_info": {
      "codemirror_mode": {
        "name": "ipython",
        "version": 3
      },
      "file_extension": ".py",
      "mimetype": "text/x-python",
      "name": "python",
      "nbconvert_exporter": "python",
      "pygments_lexer": "ipython3",
      "version": "3.7.2"
    },
    "colab": {
      "name": "main.ipynb",
      "provenance": []
    }
  },
  "cells": [
    {
      "cell_type": "markdown",
      "metadata": {
        "id": "sLuLNCPQxwGC"
      },
      "source": [
        "# Intro to Bayesian Statistics Lab\n",
        "\n",
        "Complete the following set of exercises to solidify your knowledge of Bayesian statistics and Bayesian data analysis."
      ]
    },
    {
      "cell_type": "code",
      "metadata": {
        "id": "S87q_uJPxwGF"
      },
      "source": [
        "import pandas as pd\n",
        "import numpy as np\n",
        "import matplotlib.pyplot as plt"
      ],
      "execution_count": null,
      "outputs": []
    },
    {
      "cell_type": "markdown",
      "metadata": {
        "id": "QyusTNlRxwGG"
      },
      "source": [
        "## 1. Cookie Problem\n",
        "\n",
        "Suppose we have two bowls of cookies. Bowl 1 contains 30 vanilla cookies and 10 chocolate cookies. Bowl 2 contains 20 of each. You randomly pick one cookie out of one of the bowls, and it is vanilla. Use Bayes Theorem to calculate the probability that the vanilla cookie you picked came from Bowl 1?"
      ]
    },
    {
      "cell_type": "code",
      "metadata": {
        "colab": {
          "base_uri": "https://localhost:8080/"
        },
        "id": "VE1fo1urxwGH",
        "outputId": "fed80530-adda-482d-9493-19344fdf9f32"
      },
      "source": [
        "\"\"\"\n",
        "P(C) = 'Probability of getting Chocolate cookie', P(V) = ' Probability of getting Vanilla cookie'\n",
        "\n",
        "P(B1) = 'Probability of pick one cookie from Bowl 1', P(B2) = 'Probability of pick one cookie from Bowl 2'\n",
        "##########################################################################################################\n",
        "\n",
        "P(V|B1) = 30/40\n",
        "P(C|B1) = 10/40\n",
        "\n",
        "P(V|B2) = 20/40\n",
        "P(C|B2) = 20/40\n",
        "\n",
        "P(B1) = 40/80\n",
        "P(B2) = 40/80\n",
        "\n",
        "P(V) = 50/80\n",
        "P(C) = 30/80\n",
        "\n",
        "###########################################################################################################\n",
        "P(B1|V) = ?\n",
        "\n",
        "P(B1|V) = (P(V|B1) * P(B1)) / P(V) = (30/40 * 40/80) / (50/80) = 0.6\n",
        "\n",
        "\"\"\"\n",
        "print('0.60')"
      ],
      "execution_count": 9,
      "outputs": [
        {
          "output_type": "stream",
          "name": "stdout",
          "text": [
            "0.60\n"
          ]
        }
      ]
    },
    {
      "cell_type": "markdown",
      "metadata": {
        "id": "Cv4poxY2xwGH"
      },
      "source": [
        "What is the probability that it came from Bowl 2?"
      ]
    },
    {
      "cell_type": "code",
      "metadata": {
        "colab": {
          "base_uri": "https://localhost:8080/"
        },
        "id": "CAQroYqxxwGI",
        "outputId": "126b0bd0-3983-4985-8b87-40261e471c6d"
      },
      "source": [
        "\"\"\"\n",
        "P(B2|V) = (P(V|B2) * B2) / P(V) = (20/40 * 40/80) / (50/80) = 0.4\n",
        "\"\"\"\n",
        "(20/40 * 40/80) / (50/80)"
      ],
      "execution_count": 12,
      "outputs": [
        {
          "output_type": "execute_result",
          "data": {
            "text/plain": [
              "0.4"
            ]
          },
          "metadata": {},
          "execution_count": 12
        }
      ]
    },
    {
      "cell_type": "markdown",
      "metadata": {
        "id": "pJFeAMVXxwGI"
      },
      "source": [
        "What if the cookie you had picked was chocolate? What are the probabilities that the chocolate cookie came from Bowl 1 and Bowl 2 respectively?"
      ]
    },
    {
      "cell_type": "code",
      "metadata": {
        "colab": {
          "base_uri": "https://localhost:8080/",
          "height": 35
        },
        "id": "W0qoqdPDxwGI",
        "outputId": "4fbf6810-6ab1-4e90-d602-1bddd82f6ba9"
      },
      "source": [
        "\"\"\"\n",
        "P(B1|C) = (P(C|B1) * P(B1)) / P(C) = (10/40 * 20/40) / (30/80) = 0.3333333333333333\n",
        "P(B2|C) = (P(C|B2) * P(B2)) / P(C) = (20/40 * 20/40) / (30/80) = 0.6666666666666666\n",
        "\"\"\""
      ],
      "execution_count": 15,
      "outputs": [
        {
          "output_type": "execute_result",
          "data": {
            "application/vnd.google.colaboratory.intrinsic+json": {
              "type": "string"
            },
            "text/plain": [
              "'\\nP(B1|C) = (P(C|B1) * P(B1)) / P(C) = (10/40 * 20/40) / (30/80) = 0.3333333333333333\\nP(B2|C) = (P(C|B2) * P(B2)) / P(C) = (20/40 * 20/40) / (30/80) = 0.6666666666666666\\n'"
            ]
          },
          "metadata": {},
          "execution_count": 15
        }
      ]
    },
    {
      "cell_type": "markdown",
      "metadata": {
        "id": "b6yO24uQxwGK"
      },
      "source": [
        "## 2. Candy Problem\n",
        "\n",
        "Suppose you have two bags of candies:\n",
        "\n",
        "- In Bag 1, the mix of colors is:\n",
        "    - Brown - 30%\n",
        "    - Yellow - 20%\n",
        "    - Red - 20%\n",
        "    - Green - 10%\n",
        "    - Orange - 10%\n",
        "    - Tan - 10%\n",
        "    \n",
        "- In Bag 2, the mix of colors is:\n",
        "    - Blue - 24%\n",
        "    - Green - 20%\n",
        "    - Orange - 16%\n",
        "    - Yellow - 14%\n",
        "    - Red - 13%\n",
        "    - Brown - 13%\n",
        "    \n",
        "Not knowing which bag is which, you randomly draw one candy from each bag. One is yellow and one is green. What is the probability that the yellow one came from the Bag 1?\n",
        "\n",
        "*Hint: For the likelihoods, you will need to multiply the probabilities of drawing yellow from one bag and green from the other bag and vice versa.*"
      ]
    },
    {
      "cell_type": "code",
      "metadata": {
        "id": "15QEF9I9xwGK"
      },
      "source": [
        ""
      ],
      "execution_count": null,
      "outputs": []
    },
    {
      "cell_type": "markdown",
      "metadata": {
        "id": "uf-5FiaWxwGL"
      },
      "source": [
        "What is the probability that the yellow candy came from Bag 2?"
      ]
    },
    {
      "cell_type": "code",
      "metadata": {
        "id": "3fx1RsEkxwGL"
      },
      "source": [
        ""
      ],
      "execution_count": null,
      "outputs": []
    },
    {
      "cell_type": "markdown",
      "metadata": {
        "id": "LNmtaeh5xwGL"
      },
      "source": [
        "What are the probabilities that the green one came from Bag 1 and Bag 2 respectively?"
      ]
    },
    {
      "cell_type": "code",
      "metadata": {
        "id": "UwSAX0kZxwGM"
      },
      "source": [
        ""
      ],
      "execution_count": null,
      "outputs": []
    },
    {
      "cell_type": "markdown",
      "metadata": {
        "id": "Tv5sU4arxwGM"
      },
      "source": [
        "## 3. Monty Hall Problem\n",
        "\n",
        "Suppose you are a contestant on the popular game show *Let's Make a Deal*. The host of the show (Monty Hall) presents you with three doors - Door A, Door B, and Door C. He tells you that there is a sports car behind one of them and if you choose the correct one, you win the car!\n",
        "\n",
        "You select Door A, but then Monty makes things a little more interesting. He opens Door B to reveal that there is no sports car behind it and asks you if you would like to stick with your choice of Door A or switch your choice to Door C. Given this new information, what are the probabilities of you winning the car if you stick with Door A versus if you switch to Door C?"
      ]
    },
    {
      "cell_type": "code",
      "metadata": {
        "id": "yKb9_mMIxwGM",
        "colab": {
          "base_uri": "https://localhost:8080/"
        },
        "outputId": "491733bd-e3cc-44ea-e3bf-4049b1fd54c3"
      },
      "source": [
        "\"\"\"\n",
        "# This problem is quite famous btw :))\n",
        "--------------------------------------\n",
        "P(A) = 'Probability of the car being behind the door A', P(B), P(C) -> likewise\n",
        "-------------------------------------------------------------------------------\n",
        "\n",
        "# Probabilities before opening the door\n",
        "P(A) = P(B) = P(C) = 1/3\n",
        "\n",
        "# Probabilities after opening the door\n",
        "P(B) = 0\n",
        "# here it's assumed that B is opened because:\n",
        "  - Monty won't open A because it's the player's choice, then it wouldn't make sense to ask if the player wants change its door\n",
        "  - between B and C, Monty wouldn't open the door that leads to the car, so\n",
        "\n",
        "  IN CASE the car is behind A\n",
        "    Monty can open either B or C, because none of them would reveal the car neither the selected door\n",
        "\n",
        "  IN CASE the car is behind C\n",
        "    Monty can only open the door B, because opening any other door would ruin the game for the above reason\n",
        "\n",
        "    therefore\n",
        "\n",
        "    P('opening B'|'car in A') = 1/2\n",
        "    P('opening B'|'car in C') = 1\n",
        "    P('opening B'|'car in B') = 0\n",
        "\n",
        "    P('car in A'|'opening B') = (P('opening B'|'car in A') * P('car in A')) / P()\n",
        "    P('car in C'|'opening B') =\n",
        "\n",
        "\"\"\"\n"
      ],
      "execution_count": 16,
      "outputs": [
        {
          "output_type": "execute_result",
          "data": {
            "text/plain": [
              "0.5"
            ]
          },
          "metadata": {},
          "execution_count": 16
        }
      ]
    },
    {
      "cell_type": "markdown",
      "metadata": {
        "id": "MUGuRrr2xwGM"
      },
      "source": [
        "## 4. Bayesian Analysis \n",
        "\n",
        "Suppose you work for a landscaping company, and they want to advertise their service online. They create an ad and sit back waiting for the money to roll in. On the first day, the ad sends 100 visitors to the site and 14 of them sign up for landscaping services. Create a generative model to come up with the posterior distribution and produce a visualization of what the posterior distribution would look like given the observed data."
      ]
    },
    {
      "cell_type": "code",
      "metadata": {
        "id": "QGl6_BBwxwGM"
      },
      "source": [
        ""
      ],
      "execution_count": null,
      "outputs": []
    },
    {
      "cell_type": "markdown",
      "metadata": {
        "id": "_9BICfWVxwGN"
      },
      "source": [
        "Produce a set of descriptive statistics for the posterior distribution."
      ]
    },
    {
      "cell_type": "code",
      "metadata": {
        "id": "yy3oEvSqxwGN"
      },
      "source": [
        ""
      ],
      "execution_count": null,
      "outputs": []
    },
    {
      "cell_type": "markdown",
      "metadata": {
        "id": "RaoSqCUMxwGN"
      },
      "source": [
        "What is the 90% credible interval range?"
      ]
    },
    {
      "cell_type": "code",
      "metadata": {
        "id": "zZkSdQphxwGN"
      },
      "source": [
        ""
      ],
      "execution_count": null,
      "outputs": []
    },
    {
      "cell_type": "markdown",
      "metadata": {
        "id": "07nrbYajxwGN"
      },
      "source": [
        "What is the Maximum Likelihood Estimate?"
      ]
    },
    {
      "cell_type": "code",
      "metadata": {
        "id": "oWzVcSKcxwGO"
      },
      "source": [
        ""
      ],
      "execution_count": null,
      "outputs": []
    }
  ]
}